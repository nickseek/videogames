{
 "cells": [
  {
   "attachments": {},
   "cell_type": "markdown",
   "metadata": {},
   "source": [
    "# Data preparation\n",
    "\n",
    "In our initial look at the data, we saw there are some NaNs, which we should take care of.\n",
    "Additionaly we should consider to perhaps remove some outliers."
   ]
  },
  {
   "cell_type": "code",
   "execution_count": 26,
   "metadata": {},
   "outputs": [],
   "source": [
    "import numpy as np\n",
    "import pandas as pd\n",
    "import matplotlib.pyplot as plt\n",
    "import seaborn as sns\n",
    "\n",
    "df = pd.read_csv('vgsales.csv')\n",
    "pd.set_option('display.max_rows', 500)\n",
    "pd.set_option('display.max_columns', 500)\n",
    "pd.set_option('display.width', 1000)"
   ]
  },
  {
   "attachments": {},
   "cell_type": "markdown",
   "metadata": {},
   "source": [
    "## NaNs\n",
    "\n",
    "**Year** and **Publisher** had some NaN values. Let's take a look at those rows."
   ]
  },
  {
   "cell_type": "code",
   "execution_count": 50,
   "metadata": {},
   "outputs": [],
   "source": [
    "def assess_nans(column):\n",
    "    \"\"\" Print some data regarding selected column NaN values and add an na column indicating if this column is null to the df\"\"\"\n",
    "    na_col = f\"{column}-na\"\n",
    "    df[na_col] = df[column].isna()\n",
    "    sub_df = df[df[na_col]]\n",
    "    sub_df.sort_values('Global_Sales')\n",
    "    num_missing = len(sub_df)\n",
    "    global_sales_missing = sum(sub_df['Global_Sales'])\n",
    "    print(f\"{num_missing} rows with {column.upper()} val missing, {num_missing/len(df)*100:.2f}% of total\")\n",
    "    print(f\"{global_sales_missing:.0f}M in global sales for those rows ({(global_sales_missing/sum(df['Global_Sales']))*100:.2f}% of total)\")\n",
    "    print('some examples:')\n",
    "    print(sub_df[['Name','Platform','Year','Genre','Publisher','Global_Sales']].head())\n",
    "  "
   ]
  },
  {
   "cell_type": "code",
   "execution_count": 51,
   "metadata": {},
   "outputs": [
    {
     "name": "stdout",
     "output_type": "stream",
     "text": [
      "271 rows with YEAR val missing, 1.63% of total\n",
      "100M in global sales for those rows (1.12% of total)\n",
      "some examples:\n",
      "                           Name Platform  Year     Genre                               Publisher  Global_Sales\n",
      "179             Madden NFL 2004      PS2   NaN    Sports                         Electronic Arts          5.23\n",
      "377            FIFA Soccer 2004      PS2   NaN    Sports                         Electronic Arts          3.49\n",
      "431  LEGO Batman: The Videogame      Wii   NaN    Action  Warner Bros. Interactive Entertainment          3.17\n",
      "470  wwe Smackdown vs. Raw 2006      PS2   NaN  Fighting                                     NaN          3.00\n",
      "607              Space Invaders     2600   NaN   Shooter                                   Atari          2.53\n"
     ]
    }
   ],
   "source": [
    "assess_nans('Year')"
   ]
  },
  {
   "cell_type": "code",
   "execution_count": 52,
   "metadata": {},
   "outputs": [
    {
     "name": "stdout",
     "output_type": "stream",
     "text": [
      "58 rows with PUBLISHER val missing, 0.35% of total\n",
      "15M in global sales for those rows (0.17% of total)\n",
      "some examples:\n",
      "                                                   Name Platform    Year     Genre Publisher  Global_Sales\n",
      "470                          wwe Smackdown vs. Raw 2006      PS2     NaN  Fighting       NaN          3.00\n",
      "1303                                     Triple Play 99       PS     NaN    Sports       NaN          1.46\n",
      "1662       Shrek / Shrek 2 2-in-1 Gameboy Advance Video      GBA  2007.0      Misc       NaN          1.21\n",
      "2222                                 Bentley's Hackpack      GBA  2005.0      Misc       NaN          0.93\n",
      "3159  Nicktoons Collection: Game Boy Advance Video V...      GBA  2004.0      Misc       NaN          0.64\n"
     ]
    }
   ],
   "source": [
    "assess_nans('Publisher')"
   ]
  },
  {
   "attachments": {},
   "cell_type": "markdown",
   "metadata": {},
   "source": [
    "We see that in some cases both columns are NaN. Let's look into them:"
   ]
  },
  {
   "cell_type": "code",
   "execution_count": 49,
   "metadata": {},
   "outputs": [
    {
     "name": "stdout",
     "output_type": "stream",
     "text": [
      "22 rows with both columns as nan\n",
      "top 3 platforms: [('DS', 5), ('PS', 3), ('PS3', 3)]\n",
      "top 3 genres: [('Action', 5), ('Sports', 3), ('Misc', 3)]\n",
      "6.49M global sales for rows with double nans\n"
     ]
    },
    {
     "name": "stderr",
     "output_type": "stream",
     "text": [
      "/var/folders/n4/dv38_p5d0x31c1n6tpyw2hr40000gn/T/ipykernel_2111/2520786064.py:3: UserWarning: Boolean Series key will be reindexed to match DataFrame index.\n",
      "  double_na = double_na[df[na_cols[1]]].copy()\n"
     ]
    }
   ],
   "source": [
    "na_cols = [f\"{column}-na\" for column in ['Year','Publisher']]\n",
    "double_na = df[df[na_cols[0]]].copy()\n",
    "double_na = double_na[df[na_cols[1]]].copy()\n",
    "# double_na[['Name','Platform','Year','Genre','Publisher','Global_Sales']]\n",
    "num_double = len(double_na)\n",
    "platform_double = double_na['Platform'].value_counts()\n",
    "genre_double = double_na['Genre'].value_counts()\n",
    "print(f\"{num_double} rows with both columns as nan\")\n",
    "print(f\"top 3 platforms: {[(x, platform_double[x]) for x in platform_double[:3].index]}\")\n",
    "print(f\"top 3 genres: {[(x, genre_double[x]) for x in genre_double[:3].index]}\")\n",
    "print(f\"{sum(double_na['Global_Sales']):.2f}M global sales for rows with double nans\")"
   ]
  },
  {
   "attachments": {},
   "cell_type": "markdown",
   "metadata": {},
   "source": [
    "## Handling NaN values\n",
    "\n",
    "### Both columns are NaN\n",
    "\n",
    "As there are only 22 such rows which amount to 6.5M in global sales, we'll drop those rows.\n",
    "\n",
    "### Year\n",
    "\n",
    "Even though year is numeric, we will take mode and not mean, as the years are discreete values in this data. We could have taken a round mean, yet given the sales are not lineary related to time, this doesn't make sense, and mode should be preferred. Mode will fill the year column with the year in which most games were created.\n",
    "\n",
    "However, before doing that, I notice that some games with NaN year have the year in their name. So I will first fill those and then take care of the rest.\n",
    "\n",
    "### Publisher\n",
    "\n",
    "We'll take mode for this."
   ]
  },
  {
   "cell_type": "code",
   "execution_count": 79,
   "metadata": {},
   "outputs": [
    {
     "name": "stdout",
     "output_type": "stream",
     "text": [
      "22 rows with duplicate nans removed\n"
     ]
    }
   ],
   "source": [
    "# copying df \n",
    "processed = df.copy()\n",
    "\n",
    "# dropping rows with 2 NaNs\n",
    "processed.dropna(subset = ['Year','Publisher'], how='all',inplace=True, thresh=1)\n",
    "print(f\"{len(df) - len(processed)} rows with duplicate nans removed\")"
   ]
  },
  {
   "cell_type": "code",
   "execution_count": 108,
   "metadata": {},
   "outputs": [
    {
     "name": "stdout",
     "output_type": "stream",
     "text": [
      "year found for 658 rows\n",
      "correlation between year reported and year found:\n",
      "               Year  game_year\n",
      "Year       1.000000   0.980346\n",
      "game_year  0.980346   1.000000\n"
     ]
    }
   ],
   "source": [
    "# extracting year where available\n",
    "years = [str(round(x)) for x in (df['Year'].unique()) if x > 0]\n",
    "def get_year_from_name(name):\n",
    "    name_last_word = name.split()[-1]\n",
    "    if name_last_word in years:\n",
    "        return int(name_last_word)\n",
    "    return None\n",
    " \n",
    "processed['game_year'] = processed['Name'].apply(get_year_from_name)\n",
    "\n",
    "#checking results\n",
    "with_year_in_name = processed[processed['game_year']>0]\n",
    "print(f\"year found for {len(with_year_in_name)} rows\")\n",
    "print(\"correlation between year reported and year found:\")\n",
    "print(with_year_in_name[['Year','game_year']].corr())\n"
   ]
  },
  {
   "cell_type": "code",
   "execution_count": 115,
   "metadata": {},
   "outputs": [
    {
     "name": "stdout",
     "output_type": "stream",
     "text": [
      "Replaced value for 14 rows out of 249 which didn't have year info\n"
     ]
    },
    {
     "name": "stderr",
     "output_type": "stream",
     "text": [
      "/var/folders/n4/dv38_p5d0x31c1n6tpyw2hr40000gn/T/ipykernel_2111/4128112580.py:4: UserWarning: Boolean Series key will be reindexed to match DataFrame index.\n",
      "  found_years_for_missing = missing_years[processed['Year'] > 0]\n"
     ]
    }
   ],
   "source": [
    "#replace found year where missing\n",
    "missing_years = processed[processed['Year-na']]\n",
    "processed['Year'] = processed.apply(lambda x: x['Year'] if x['Year']>0 else x['game_year'],axis = 1)\n",
    "found_years_for_missing = missing_years[processed['Year'] > 0]\n",
    "print(f\"Replaced value for {len(found_years_for_missing)} rows out of {len(missing_years)} which didn't have year info\")\n"
   ]
  },
  {
   "cell_type": "code",
   "execution_count": 128,
   "metadata": {},
   "outputs": [
    {
     "data": {
      "text/html": [
       "<div>\n",
       "<style scoped>\n",
       "    .dataframe tbody tr th:only-of-type {\n",
       "        vertical-align: middle;\n",
       "    }\n",
       "\n",
       "    .dataframe tbody tr th {\n",
       "        vertical-align: top;\n",
       "    }\n",
       "\n",
       "    .dataframe thead th {\n",
       "        text-align: right;\n",
       "    }\n",
       "</style>\n",
       "<table border=\"1\" class=\"dataframe\">\n",
       "  <thead>\n",
       "    <tr style=\"text-align: right;\">\n",
       "      <th></th>\n",
       "      <th>Rank</th>\n",
       "      <th>Name</th>\n",
       "      <th>Platform</th>\n",
       "      <th>Year</th>\n",
       "      <th>Genre</th>\n",
       "      <th>Publisher</th>\n",
       "      <th>NA_Sales</th>\n",
       "      <th>EU_Sales</th>\n",
       "      <th>JP_Sales</th>\n",
       "      <th>Other_Sales</th>\n",
       "      <th>Global_Sales</th>\n",
       "      <th>Year-na</th>\n",
       "      <th>Publisher-na</th>\n",
       "      <th>game_year</th>\n",
       "    </tr>\n",
       "  </thead>\n",
       "  <tbody>\n",
       "    <tr>\n",
       "      <th>179</th>\n",
       "      <td>180</td>\n",
       "      <td>Madden NFL 2004</td>\n",
       "      <td>PS2</td>\n",
       "      <td>2004.0</td>\n",
       "      <td>Sports</td>\n",
       "      <td>Electronic Arts</td>\n",
       "      <td>4.26</td>\n",
       "      <td>0.26</td>\n",
       "      <td>0.01</td>\n",
       "      <td>0.71</td>\n",
       "      <td>5.23</td>\n",
       "      <td>True</td>\n",
       "      <td>False</td>\n",
       "      <td>2004.0</td>\n",
       "    </tr>\n",
       "    <tr>\n",
       "      <th>377</th>\n",
       "      <td>378</td>\n",
       "      <td>FIFA Soccer 2004</td>\n",
       "      <td>PS2</td>\n",
       "      <td>2004.0</td>\n",
       "      <td>Sports</td>\n",
       "      <td>Electronic Arts</td>\n",
       "      <td>0.59</td>\n",
       "      <td>2.36</td>\n",
       "      <td>0.04</td>\n",
       "      <td>0.51</td>\n",
       "      <td>3.49</td>\n",
       "      <td>True</td>\n",
       "      <td>False</td>\n",
       "      <td>2004.0</td>\n",
       "    </tr>\n",
       "    <tr>\n",
       "      <th>431</th>\n",
       "      <td>432</td>\n",
       "      <td>LEGO Batman: The Videogame</td>\n",
       "      <td>Wii</td>\n",
       "      <td>2009.0</td>\n",
       "      <td>Action</td>\n",
       "      <td>Warner Bros. Interactive Entertainment</td>\n",
       "      <td>1.86</td>\n",
       "      <td>1.02</td>\n",
       "      <td>0.00</td>\n",
       "      <td>0.29</td>\n",
       "      <td>3.17</td>\n",
       "      <td>True</td>\n",
       "      <td>False</td>\n",
       "      <td>NaN</td>\n",
       "    </tr>\n",
       "    <tr>\n",
       "      <th>607</th>\n",
       "      <td>608</td>\n",
       "      <td>Space Invaders</td>\n",
       "      <td>2600</td>\n",
       "      <td>2009.0</td>\n",
       "      <td>Shooter</td>\n",
       "      <td>Atari</td>\n",
       "      <td>2.36</td>\n",
       "      <td>0.14</td>\n",
       "      <td>0.00</td>\n",
       "      <td>0.03</td>\n",
       "      <td>2.53</td>\n",
       "      <td>True</td>\n",
       "      <td>False</td>\n",
       "      <td>NaN</td>\n",
       "    </tr>\n",
       "    <tr>\n",
       "      <th>624</th>\n",
       "      <td>625</td>\n",
       "      <td>Rock Band</td>\n",
       "      <td>X360</td>\n",
       "      <td>2009.0</td>\n",
       "      <td>Misc</td>\n",
       "      <td>Electronic Arts</td>\n",
       "      <td>1.93</td>\n",
       "      <td>0.34</td>\n",
       "      <td>0.00</td>\n",
       "      <td>0.21</td>\n",
       "      <td>2.48</td>\n",
       "      <td>True</td>\n",
       "      <td>False</td>\n",
       "      <td>NaN</td>\n",
       "    </tr>\n",
       "  </tbody>\n",
       "</table>\n",
       "</div>"
      ],
      "text/plain": [
       "     Rank                        Name Platform    Year    Genre                               Publisher  NA_Sales  EU_Sales  JP_Sales  Other_Sales  Global_Sales  Year-na  Publisher-na  game_year\n",
       "179   180             Madden NFL 2004      PS2  2004.0   Sports                         Electronic Arts      4.26      0.26      0.01         0.71          5.23     True         False     2004.0\n",
       "377   378            FIFA Soccer 2004      PS2  2004.0   Sports                         Electronic Arts      0.59      2.36      0.04         0.51          3.49     True         False     2004.0\n",
       "431   432  LEGO Batman: The Videogame      Wii  2009.0   Action  Warner Bros. Interactive Entertainment      1.86      1.02      0.00         0.29          3.17     True         False        NaN\n",
       "607   608              Space Invaders     2600  2009.0  Shooter                                   Atari      2.36      0.14      0.00         0.03          2.53     True         False        NaN\n",
       "624   625                   Rock Band     X360  2009.0     Misc                         Electronic Arts      1.93      0.34      0.00         0.21          2.48     True         False        NaN"
      ]
     },
     "execution_count": 128,
     "metadata": {},
     "output_type": "execute_result"
    }
   ],
   "source": [
    "#replace still missing values with mode\n",
    "pub_m = processed['Publisher'].mode()[0] #'Electronic Arts'\n",
    "year_m = processed['Year'].mode()[0] #2009\n",
    "processed['Year'] = processed['Year'].apply(lambda x: x if x > 0 else year_m)\n",
    "processed['Publisher'] = processed['Publisher'].apply(lambda x: pub_m if x is None else x)\n",
    "\n",
    "\n",
    "processed[processed['Year-na']].head()"
   ]
  },
  {
   "cell_type": "code",
   "execution_count": 4,
   "metadata": {},
   "outputs": [
    {
     "name": "stderr",
     "output_type": "stream",
     "text": [
      "/usr/local/anaconda3/lib/python3.8/site-packages/seaborn/_decorators.py:36: FutureWarning: Pass the following variable as a keyword arg: x. From version 0.12, the only valid positional argument will be `data`, and passing other arguments without an explicit keyword will result in an error or misinterpretation.\n",
      "  warnings.warn(\n"
     ]
    },
    {
     "data": {
      "text/plain": [
       "<AxesSubplot:xlabel='Global_Sales'>"
      ]
     },
     "execution_count": 4,
     "metadata": {},
     "output_type": "execute_result"
    },
    {
     "data": {
      "image/png": "[encoded data removed]",
      "text/plain": [
       "<Figure size 640x480 with 1 Axes>"
      ]
     },
     "metadata": {},
     "output_type": "display_data"
    }
   ],
   "source": [
    "sns.boxplot(df['Global_Sales'])"
   ]
  }
 ],
 "metadata": {
  "kernelspec": {
   "display_name": "base",
   "language": "python",
   "name": "python3"
  },
  "language_info": {
   "codemirror_mode": {
    "name": "ipython",
    "version": 3
   },
   "file_extension": ".py",
   "mimetype": "text/x-python",
   "name": "python",
   "nbconvert_exporter": "python",
   "pygments_lexer": "ipython3",
   "version": "3.8.5"
  },
  "orig_nbformat": 4,
  "vscode": {
   "interpreter": {
    "hash": "3067ead486e059ec00ffe7555bdb889e6e264a24dc711bf108106cc7baee8d5d"
   }
  }
 },
 "nbformat": 4,
 "nbformat_minor": 2
}
